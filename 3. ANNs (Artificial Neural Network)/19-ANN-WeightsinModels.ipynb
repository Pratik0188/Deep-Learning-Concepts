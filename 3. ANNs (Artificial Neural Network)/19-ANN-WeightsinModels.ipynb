{
 "cells": [
  {
   "cell_type": "code",
   "execution_count": 4,
   "id": "8936c209",
   "metadata": {},
   "outputs": [],
   "source": [
    "# import libraries\n",
    "import numpy as np\n",
    "import torch\n",
    "import torch.nn as nn"
   ]
  },
  {
   "cell_type": "code",
   "execution_count": 7,
   "id": "f1380a5a",
   "metadata": {},
   "outputs": [
    {
     "name": "stdout",
     "output_type": "stream",
     "text": [
      "Sequential(\n",
      "  (0): Linear(in_features=2, out_features=4, bias=True)\n",
      "  (1): Linear(in_features=4, out_features=3, bias=True)\n",
      ")\n",
      " \n",
      "Sequential(\n",
      "  (0): Linear(in_features=2, out_features=2, bias=True)\n",
      "  (1): Linear(in_features=2, out_features=2, bias=True)\n",
      "  (2): Linear(in_features=2, out_features=3, bias=True)\n",
      ")\n"
     ]
    }
   ],
   "source": [
    "# build two models\n",
    "\n",
    "widenet = nn.Sequential(\n",
    "    nn.Linear(2,4),    # hidden layer\n",
    "    nn.Linear(4,3),    # output layer\n",
    "    )\n",
    "\n",
    "deepnet = nn.Sequential(\n",
    "    nn.Linear(2,2),    # hidden layer\n",
    "    nn.Linear(2,2),    # hidden layer\n",
    "    nn.Linear(2,3),    # output layer\n",
    ")\n",
    "\n",
    "#print. them out to have a look\n",
    "print(widenet)\n",
    "print(' ')\n",
    "print(deepnet)\n",
    "\n",
    "'''\n",
    "These networks are instances of a class in Pytorch.\n",
    "widenet. will open all list of attributes and methods associated with the instance.\n",
    "We will only use soe properties there.\n",
    "'''"
   ]
  },
  {
   "cell_type": "code",
   "execution_count": 9,
   "id": "ed9ff0fa",
   "metadata": {},
   "outputs": [
    {
     "name": "stdout",
     "output_type": "stream",
     "text": [
      "('0.weight', Parameter containing:\n",
      "tensor([[-0.2873, -0.6458],\n",
      "        [ 0.4653, -0.6022]], requires_grad=True))\n",
      " \n",
      "('0.bias', Parameter containing:\n",
      "tensor([-0.2887, -0.0568], requires_grad=True))\n",
      " \n",
      "('1.weight', Parameter containing:\n",
      "tensor([[ 0.0768,  0.4199],\n",
      "        [ 0.1043, -0.1194]], requires_grad=True))\n",
      " \n",
      "('1.bias', Parameter containing:\n",
      "tensor([-0.3526, -0.4825], requires_grad=True))\n",
      " \n",
      "('2.weight', Parameter containing:\n",
      "tensor([[-0.6315,  0.0978],\n",
      "        [ 0.7006, -0.2562],\n",
      "        [ 0.3798,  0.3768]], requires_grad=True))\n",
      " \n",
      "('2.bias', Parameter containing:\n",
      "tensor([-0.0209,  0.5128,  0.0696], requires_grad=True))\n",
      " \n"
     ]
    }
   ],
   "source": [
    "# Peeking inside the network\n",
    "# check out the parameters\n",
    "\n",
    "for p in deepnet.named_parameters():\n",
    "    print(p)\n",
    "    print(' ')"
   ]
  },
  {
   "cell_type": "code",
   "execution_count": 13,
   "id": "da2b966e",
   "metadata": {},
   "outputs": [
    {
     "name": "stdout",
     "output_type": "stream",
     "text": [
      "There are 7 nodes in the wide network.\n",
      "There are 7 nodes in the deep network.\n"
     ]
    }
   ],
   "source": [
    "# count the number of nodeaa ( = the number of biases )\n",
    "\n",
    "# named_parameters() is an iterable that returns the tuple (name,numbers)\n",
    "numNodesInWide = 0\n",
    "for p in widenet.named_parameters():\n",
    "    if 'bias' in p[0]:\n",
    "        numNodesInWide += len(p[1])\n",
    "\n",
    "numNodesInDeep = 0\n",
    "for paramName,paramVect in deepnet.named_parameters():\n",
    "    if 'bias' in paramName:\n",
    "        numNodesInDeep += len(paramVect)\n",
    "        \n",
    "print('There are %s nodes in the wide network.' %numNodesInWide)\n",
    "print('There are %s nodes in the deep network.' %numNodesInDeep)"
   ]
  },
  {
   "cell_type": "code",
   "execution_count": 14,
   "id": "06d9e7b1",
   "metadata": {},
   "outputs": [
    {
     "name": "stdout",
     "output_type": "stream",
     "text": [
      "Parameter containing:\n",
      "tensor([[-0.3167,  0.4767],\n",
      "        [ 0.4539,  0.2336],\n",
      "        [-0.1467, -0.3039],\n",
      "        [ 0.4970,  0.0928]], requires_grad=True)\n",
      " \n",
      "Parameter containing:\n",
      "tensor([ 0.2659, -0.6594, -0.2807, -0.6570], requires_grad=True)\n",
      " \n",
      "Parameter containing:\n",
      "tensor([[ 0.0742,  0.2184,  0.3265,  0.0120],\n",
      "        [ 0.3631, -0.3049,  0.1597,  0.1585],\n",
      "        [-0.4567,  0.1874,  0.3646,  0.0939]], requires_grad=True)\n",
      " \n",
      "Parameter containing:\n",
      "tensor([ 0.3179,  0.4567, -0.2965], requires_grad=True)\n",
      " \n"
     ]
    }
   ],
   "source": [
    "# just the parameters\n",
    "for p in widenet.parameters():\n",
    "    print(p)\n",
    "    print(' ')"
   ]
  },
  {
   "cell_type": "code",
   "execution_count": 15,
   "id": "7b4eb2ab",
   "metadata": {},
   "outputs": [
    {
     "name": "stdout",
     "output_type": "stream",
     "text": [
      "This piece has 8 parameters\n",
      "This piece has 4 parameters\n",
      "This piece has 12 parameters\n",
      "This piece has 3 parameters\n",
      "\n",
      "\n",
      "Total of 27 parameters\n"
     ]
    }
   ],
   "source": [
    "# now count the total no of trainable parameters\n",
    "nparams=0\n",
    "for p in widenet.parameters():\n",
    "    if p.requires_grad:\n",
    "        print('This piece has %s parameters' %p.numel())\n",
    "        nparams += p.numel()\n",
    "\n",
    "print('\\n\\nTotal of %s parameters'%nparams)"
   ]
  },
  {
   "cell_type": "code",
   "execution_count": 16,
   "id": "d76f5808",
   "metadata": {},
   "outputs": [
    {
     "name": "stdout",
     "output_type": "stream",
     "text": [
      "Widenet has 27 parameters\n",
      "deepnet has 21 parameters\n"
     ]
    }
   ],
   "source": [
    "# We can also use list comprehension\n",
    "\n",
    "nparams = np.sum([p.numel() for p in widenet.parameters() if p.requires_grad])\n",
    "print('Widenet has %s parameters' %nparams)\n",
    "\n",
    "nparams = np.sum([p.numel() for p in deepnet.parameters() if p.requires_grad])\n",
    "print('deepnet has %s parameters'%nparams)"
   ]
  },
  {
   "cell_type": "code",
   "execution_count": 20,
   "id": "2b30f960",
   "metadata": {},
   "outputs": [
    {
     "name": "stdout",
     "output_type": "stream",
     "text": [
      "Collecting torchsummary\n",
      "  Downloading torchsummary-1.5.1-py3-none-any.whl (2.8 kB)\n",
      "Installing collected packages: torchsummary\n",
      "Successfully installed torchsummary-1.5.1\n",
      "Note: you may need to restart the kernel to use updated packages.\n"
     ]
    }
   ],
   "source": [
    "pip install torchsummary"
   ]
  },
  {
   "cell_type": "code",
   "execution_count": 24,
   "id": "e22fc351",
   "metadata": {},
   "outputs": [
    {
     "name": "stdout",
     "output_type": "stream",
     "text": [
      "----------------------------------------------------------------\n",
      "        Layer (type)               Output Shape         Param #\n",
      "================================================================\n",
      "            Linear-1                 [-1, 1, 4]              12\n",
      "            Linear-2                 [-1, 1, 3]              15\n",
      "================================================================\n",
      "Total params: 27\n",
      "Trainable params: 27\n",
      "Non-trainable params: 0\n",
      "----------------------------------------------------------------\n",
      "Input size (MB): 0.00\n",
      "Forward/backward pass size (MB): 0.00\n",
      "Params size (MB): 0.00\n",
      "Estimated Total Size (MB): 0.00\n",
      "----------------------------------------------------------------\n"
     ]
    }
   ],
   "source": [
    "# Nice way to print model info.\n",
    "from torchsummary import summary\n",
    "summary(widenet, input_size=(1, 2))\n"
   ]
  },
  {
   "cell_type": "code",
   "execution_count": null,
   "id": "7c345044",
   "metadata": {},
   "outputs": [],
   "source": []
  }
 ],
 "metadata": {
  "kernelspec": {
   "display_name": "Python 3 (ipykernel)",
   "language": "python",
   "name": "python3"
  },
  "language_info": {
   "codemirror_mode": {
    "name": "ipython",
    "version": 3
   },
   "file_extension": ".py",
   "mimetype": "text/x-python",
   "name": "python",
   "nbconvert_exporter": "python",
   "pygments_lexer": "ipython3",
   "version": "3.11.4"
  }
 },
 "nbformat": 4,
 "nbformat_minor": 5
}
