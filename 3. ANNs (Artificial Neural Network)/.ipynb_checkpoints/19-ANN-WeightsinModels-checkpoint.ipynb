{
 "cells": [
  {
   "cell_type": "code",
   "execution_count": 4,
   "id": "17b497eb",
   "metadata": {},
   "outputs": [],
   "source": [
    "# import libraries\n",
    "import numpy as np\n",
    "import torch\n",
    "import torch.nn as nn"
   ]
  },
  {
   "cell_type": "code",
   "execution_count": 7,
   "id": "03122b4c",
   "metadata": {},
   "outputs": [
    {
     "name": "stdout",
     "output_type": "stream",
     "text": [
      "Sequential(\n",
      "  (0): Linear(in_features=2, out_features=4, bias=True)\n",
      "  (1): Linear(in_features=4, out_features=3, bias=True)\n",
      ")\n",
      " \n",
      "Sequential(\n",
      "  (0): Linear(in_features=2, out_features=2, bias=True)\n",
      "  (1): Linear(in_features=2, out_features=2, bias=True)\n",
      "  (2): Linear(in_features=2, out_features=3, bias=True)\n",
      ")\n"
     ]
    }
   ],
   "source": [
    "# build two models\n",
    "\n",
    "widenet = nn.Sequential(\n",
    "    nn.Linear(2,4),    # hidden layer\n",
    "    nn.Linear(4,3),    # output layer\n",
    "    )\n",
    "\n",
    "deepnet = nn.Sequential(\n",
    "    nn.Linear(2,2),    # hidden layer\n",
    "    nn.Linear(2,2),    # hidden layer\n",
    "    nn.Linear(2,3),    # output layer\n",
    ")\n",
    "\n",
    "#print. them out to have a look\n",
    "print(widenet)\n",
    "print(' ')\n",
    "print(deepnet)\n",
    "\n",
    "'''\n",
    "These networks are instances of a class in Pytorch.\n",
    "widenet. will open all list of attributes and methods associated with the instance.\n",
    "We will only use soe properties there.\n",
    "'''"
   ]
  },
  {
   "cell_type": "code",
   "execution_count": null,
   "id": "f4b02040",
   "metadata": {},
   "outputs": [],
   "source": [
    "#Peeking inside the network\n"
   ]
  }
 ],
 "metadata": {
  "kernelspec": {
   "display_name": "Python 3 (ipykernel)",
   "language": "python",
   "name": "python3"
  },
  "language_info": {
   "codemirror_mode": {
    "name": "ipython",
    "version": 3
   },
   "file_extension": ".py",
   "mimetype": "text/x-python",
   "name": "python",
   "nbconvert_exporter": "python",
   "pygments_lexer": "ipython3",
   "version": "3.11.4"
  }
 },
 "nbformat": 4,
 "nbformat_minor": 5
}
