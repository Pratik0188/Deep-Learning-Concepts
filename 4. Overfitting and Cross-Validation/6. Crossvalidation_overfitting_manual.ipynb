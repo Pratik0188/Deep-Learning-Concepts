{
 "cells": [
  {
   "cell_type": "code",
   "execution_count": 17,
   "id": "192531ed",
   "metadata": {},
   "outputs": [],
   "source": [
    "#import\n",
    "import torch\n",
    "import torch.nn as nn\n",
    "import numpy as np"
   ]
  },
  {
   "cell_type": "code",
   "execution_count": 18,
   "id": "c0f6b57c",
   "metadata": {},
   "outputs": [],
   "source": [
    "#import dataset (comes with seaborn)\n",
    "import seaborn as sns\n",
    "iris = sns.load_dataset('iris')\n",
    "\n",
    "#convert from pandas dataset to tensor\n",
    "data = torch.tensor(iris[iris.columns[0:4]].values).float()\n",
    "\n",
    "#transform species to number\n",
    "labels = torch.zeros(len(data), dtype=torch.long)\n",
    "#labels[iris.species=='setosa'] = 0 #don't need!\n",
    "labels[iris.species == 'versicolor'] = 1\n",
    "labels[iris.species == 'virginica'] = 2\n",
    "\n",
    "#Here the average of labels should be 1. It is because it has equal no of 0,1 and 2.\n",
    "#If it has average something other than 1, it means there isn't perfect balance of flowers.\n",
    "#"
   ]
  },
  {
   "cell_type": "code",
   "execution_count": 22,
   "id": "2a73db00",
   "metadata": {},
   "outputs": [
    {
     "data": {
      "text/plain": [
       "array([False,  True,  True,  True,  True,  True,  True,  True,  True,\n",
       "        True, False,  True,  True, False,  True,  True,  True,  True,\n",
       "        True, False,  True,  True,  True,  True,  True,  True, False,\n",
       "        True,  True,  True, False,  True,  True,  True,  True,  True,\n",
       "        True,  True, False,  True,  True, False,  True,  True,  True,\n",
       "        True,  True,  True,  True,  True,  True,  True,  True,  True,\n",
       "        True,  True,  True,  True,  True,  True,  True,  True,  True,\n",
       "       False, False,  True,  True, False,  True,  True,  True, False,\n",
       "        True,  True,  True,  True,  True, False, False,  True,  True,\n",
       "        True,  True,  True, False,  True,  True, False,  True, False,\n",
       "       False,  True,  True,  True,  True, False,  True,  True,  True,\n",
       "        True, False,  True,  True,  True,  True,  True,  True,  True,\n",
       "        True,  True,  True,  True, False,  True,  True,  True, False,\n",
       "        True,  True, False, False,  True, False,  True,  True,  True,\n",
       "        True,  True,  True,  True,  True,  True, False,  True, False,\n",
       "        True,  True, False,  True,  True,  True,  True, False,  True,\n",
       "        True,  True,  True,  True, False,  True])"
      ]
     },
     "execution_count": 22,
     "metadata": {},
     "output_type": "execute_result"
    }
   ],
   "source": [
    "#Seperate the data into train and test\n",
    "\n",
    "# (no devset here)\n",
    "\n",
    "#how many training examples\n",
    "propTraining = .8 #in proportion, not percent\n",
    "nTraining = int(len(labels)*propTraining)\n",
    "\n",
    "#initialize a boolean vector to select data and labels\n",
    "traintestBool = np.zeros(len(labels),dtype=bool)\n",
    "\n",
    "#is this the correct way to select examples?\n",
    "#traintestBool[range(nTraining)] = True\n",
    "\n",
    "# This is better , but why?\n",
    "items2use4train = np.random.choice(range(len(labels)), nTraining, replace=False)\n",
    "traintestBool[items2use4train] = True\n",
    "\n",
    "traintestBool\n",
    "\n",
    "#Here the training and testing are going to be randomly selcted from all\n",
    "# three categories.\n",
    "\n"
   ]
  },
  {
   "cell_type": "code",
   "execution_count": 23,
   "id": "deae10d0",
   "metadata": {},
   "outputs": [
    {
     "name": "stdout",
     "output_type": "stream",
     "text": [
      "Average of full data:\n",
      "tensor(1.)\n",
      " \n",
      "Average of training data:\n",
      "tensor(0.9750)\n",
      " \n",
      "Average of test data:\n",
      "tensor(1.1000)\n"
     ]
    }
   ],
   "source": [
    "#test whether it's balanced\n",
    "print('Average of full data:')\n",
    "print( torch.mean(labels.float())) # =1 by definition\n",
    "print(' ')\n",
    "\n",
    "print('Average of training data:')\n",
    "print( torch.mean(labels[traintestBool].float())) #should be 1...\n",
    "print(' ')\n",
    "\n",
    "print('Average of test data:')\n",
    "print(torch.mean(labels[~traintestBool].float())) #should also be 1..."
   ]
  },
  {
   "cell_type": "code",
   "execution_count": 27,
   "id": "d60da9e2",
   "metadata": {},
   "outputs": [],
   "source": [
    "#Create the ANN model\n",
    "\n",
    "#model architecture\n",
    "ANNiris = nn.Sequential(\n",
    "    nn.Linear(4,64), #input layer\n",
    "    nn.ReLU(),       #activation unit\n",
    "    nn.Linear(64,64),#hidden layer\n",
    "    nn.ReLU(),       #activation unit\n",
    "    nn.Linear(64,3), #output units\n",
    "    )\n",
    "\n",
    "#loss function\n",
    "lossfun = nn.CrossEntropyLoss()\n",
    "\n",
    "#optimizer\n",
    "optimizer = torch.optim.SGD(ANNiris.parameters(),lr=.01)"
   ]
  },
  {
   "cell_type": "code",
   "execution_count": 28,
   "id": "b646c815",
   "metadata": {},
   "outputs": [
    {
     "name": "stdout",
     "output_type": "stream",
     "text": [
      "torch.Size([150, 4])\n",
      "torch.Size([120, 4])\n",
      "torch.Size([30, 4])\n"
     ]
    }
   ],
   "source": [
    "#enitre dataset\n",
    "print(data.shape)\n",
    "\n",
    "#training set\n",
    "print( data[traintestBool,:].shape)\n",
    "\n",
    "#test set\n",
    "print(data[~traintestBool,:].shape)"
   ]
  },
  {
   "cell_type": "code",
   "execution_count": 30,
   "id": "1f09fd35",
   "metadata": {},
   "outputs": [],
   "source": [
    "#Train and test the model\n",
    "\n",
    "#train the model\n",
    "\n",
    "numepochs = 1000\n",
    "\n",
    "#initialize losses\n",
    "losses = torch.zeros(numepochs)\n",
    "ongoingAcc = []\n",
    "\n",
    "#loop over epochs\n",
    "for epochi in range(numepochs):\n",
    "    \n",
    "    #forward pass\n",
    "    yHat = ANNiris(data[traintestBool,:])\n",
    "    \n",
    "    #compute accuracy (note: denser than previous code!)\n",
    "    ongoingAcc.append(100*torch.mean(\n",
    "    (torch.argmax(yHat,axis=1)==labels[traintestBool]).float()))\n",
    "    \n",
    "    #compute loss\n",
    "    loss = lossfun(yHat, labels[traintestBool])\n",
    "    losses[epochi] = loss\n",
    "    \n",
    "    #backprop\n",
    "    optimizer.zero_grad()\n",
    "    loss.backward()\n",
    "    optimizer.step()"
   ]
  },
  {
   "cell_type": "code",
   "execution_count": 38,
   "id": "fd2e42db",
   "metadata": {},
   "outputs": [],
   "source": [
    "#compute train and test accuracies\n",
    "\n",
    "#final forward pass USING TRAINING DATA\n",
    "predictions = ANNiris(data[traintestBool,:])\n",
    "trainacc = 100 * torch.mean((torch.argmax(predictions, axis=1) == labels[traintestBool]).float())\n",
    "\n",
    "#final forward pass USING TEST DATA!\n",
    "predictions = ANNiris(data[~traintestBool,:])\n",
    "testacc = 100 * torch.mean((torch.argmax(predictions, axis=1) == labels[~traintestBool]).float())\n"
   ]
  },
  {
   "cell_type": "code",
   "execution_count": 39,
   "id": "1032d3cc",
   "metadata": {},
   "outputs": [
    {
     "name": "stdout",
     "output_type": "stream",
     "text": [
      "Final Train accuracy: 96.6667%\n",
      "Final Test accuracy: 100%\n"
     ]
    }
   ],
   "source": [
    "#report accuracies\n",
    "\n",
    "print('Final Train accuracy: %g%%' %trainacc)\n",
    "print('Final Test accuracy: %g%%' %testacc)\n",
    "\n",
    "#It is a bit unusual because because we are overfitting to the training data and overfitting to the test data.\n",
    "#However this thing can happen with particularly with small dataset.\n",
    "#So, test accuracy becomes higher than train accuracy."
   ]
  },
  {
   "cell_type": "code",
   "execution_count": null,
   "id": "591cb757",
   "metadata": {},
   "outputs": [],
   "source": [
    "#normally also inspect losses and accuracy by epoch, etc.."
   ]
  }
 ],
 "metadata": {
  "kernelspec": {
   "display_name": "Python 3 (ipykernel)",
   "language": "python",
   "name": "python3"
  },
  "language_info": {
   "codemirror_mode": {
    "name": "ipython",
    "version": 3
   },
   "file_extension": ".py",
   "mimetype": "text/x-python",
   "name": "python",
   "nbconvert_exporter": "python",
   "pygments_lexer": "ipython3",
   "version": "3.11.4"
  }
 },
 "nbformat": 4,
 "nbformat_minor": 5
}
