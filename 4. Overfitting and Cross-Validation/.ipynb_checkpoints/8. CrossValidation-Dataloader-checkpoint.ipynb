{
 "cells": [
  {
   "cell_type": "code",
   "execution_count": 40,
   "id": "ad72300c",
   "metadata": {},
   "outputs": [
    {
     "data": {
      "text/plain": [
       "'\\nDataLoader\\nBatch Training\\n\\nSuppose we have a dataset, and we divide it into 80% training set and 20% testset.\\nThe idea of mini batches that we divide the training set into 10/20 mini-batches\\nSo, instead of training the training dataset one at a time , we train them\\nbatch by batch and apply backpropagation based on the cost from previous batch.\\n\\n'"
      ]
     },
     "execution_count": 40,
     "metadata": {},
     "output_type": "execute_result"
    }
   ],
   "source": [
    "'''\n",
    "DataLoader\n",
    "Batch Training\n",
    "\n",
    "Suppose we have a dataset, and we divide it into 80% training set and 20% testset.\n",
    "The idea of mini batches that we divide the training set into 10/20 mini-batches\n",
    "So, instead of training the training dataset one at a time , we train them\n",
    "batch by batch and apply backpropagation based on the cost from previous batch.\n",
    "\n",
    "'''"
   ]
  },
  {
   "cell_type": "code",
   "execution_count": 41,
   "id": "cc524bce",
   "metadata": {},
   "outputs": [],
   "source": [
    "#import libraries\n",
    "import torch\n",
    "import torch.nn as nn\n",
    "import numpy as np\n",
    "import matplotlib.pyplot as plt\n",
    "from sklearn.model_selection import train_test_split\n",
    "\n",
    "#new \n",
    "from torch.utils.data import DataLoader,TensorDataset"
   ]
  },
  {
   "cell_type": "code",
   "execution_count": 42,
   "id": "1dcf0b79",
   "metadata": {},
   "outputs": [],
   "source": [
    "#import dataset (comes with seaborm)\n",
    "import seaborn as sns\n",
    "iris = sns.load_dataset('iris')\n",
    "\n",
    "#convert from pandas dataframe to tensor\n",
    "data = torch.tensor(iris[iris.columns[0:4]].values).float()\n",
    "\n",
    "#transform species to number\n",
    "labels = torch.zeros(len(data), dtype=torch.long)\n",
    "\n",
    "#labels[iris.species == 'setosa'] = 0 #dont need\n",
    "labels[iris.species == 'versicolor'] = 1\n",
    "labels[iris.species == 'virginica'] = 2"
   ]
  },
  {
   "cell_type": "code",
   "execution_count": 43,
   "id": "693458e8",
   "metadata": {},
   "outputs": [
    {
     "name": "stdout",
     "output_type": "stream",
     "text": [
      "[[ 11  12  13  14]\n",
      " [ 21  22  23  24]\n",
      " [ 31  32  33  34]\n",
      " [ 41  42  43  44]\n",
      " [ 51  52  53  54]\n",
      " [ 61  62  63  64]\n",
      " [ 71  72  73  74]\n",
      " [ 81  82  83  84]\n",
      " [ 91  92  93  94]\n",
      " [101 102 103 104]]\n",
      " \n",
      "[False False False False False  True  True  True  True  True]\n"
     ]
    }
   ],
   "source": [
    "#A brief aside on using Dataloader\n",
    "#We are going to work with fake data before working with real-data to understand how Dataloader works.\n",
    "\n",
    "fakedata = np.tile(np.array([1,2,3,4]),(10,1)) + np.tile(10*np.arange(1,11),(4,1)).T\n",
    "fakelabels = np.arange(10)>4\n",
    "print(fakedata), print(' ')\n",
    "print(fakelabels)"
   ]
  },
  {
   "cell_type": "code",
   "execution_count": 44,
   "id": "b2bb8435",
   "metadata": {},
   "outputs": [
    {
     "name": "stdout",
     "output_type": "stream",
     "text": [
      "<torch.utils.data.dataloader.DataLoader object at 0x164f82890>\n",
      "1\n"
     ]
    }
   ],
   "source": [
    "#dataloader object with all data\n",
    "fakedataLdr = DataLoader(fakedata, shuffle=True)\n",
    "print(fakedataLdr)\n",
    "print(fakedataLdr.batch_size)"
   ]
  },
  {
   "cell_type": "code",
   "execution_count": 45,
   "id": "7869cd48",
   "metadata": {},
   "outputs": [
    {
     "name": "stdout",
     "output_type": "stream",
     "text": [
      "0 tensor([[91, 92, 93, 94]]) torch.Size([1, 4])\n",
      "1 tensor([[51, 52, 53, 54]]) torch.Size([1, 4])\n",
      "2 tensor([[41, 42, 43, 44]]) torch.Size([1, 4])\n",
      "3 tensor([[11, 12, 13, 14]]) torch.Size([1, 4])\n",
      "4 tensor([[31, 32, 33, 34]]) torch.Size([1, 4])\n",
      "5 tensor([[71, 72, 73, 74]]) torch.Size([1, 4])\n",
      "6 tensor([[101, 102, 103, 104]]) torch.Size([1, 4])\n",
      "7 tensor([[61, 62, 63, 64]]) torch.Size([1, 4])\n",
      "8 tensor([[81, 82, 83, 84]]) torch.Size([1, 4])\n",
      "9 tensor([[21, 22, 23, 24]]) torch.Size([1, 4])\n"
     ]
    }
   ],
   "source": [
    "#iterate through the data\n",
    "for i,oneSample in enumerate(fakedataLdr):\n",
    "    print(i,oneSample,oneSample.shape)\n",
    "\n",
    "#but, where are the labels?"
   ]
  },
  {
   "cell_type": "code",
   "execution_count": 46,
   "id": "f95cdd24",
   "metadata": {},
   "outputs": [
    {
     "name": "stdout",
     "output_type": "stream",
     "text": [
      "(tensor([[ 11.,  12.,  13.,  14.],\n",
      "        [ 21.,  22.,  23.,  24.],\n",
      "        [ 31.,  32.,  33.,  34.],\n",
      "        [ 41.,  42.,  43.,  44.],\n",
      "        [ 51.,  52.,  53.,  54.],\n",
      "        [ 61.,  62.,  63.,  64.],\n",
      "        [ 71.,  72.,  73.,  74.],\n",
      "        [ 81.,  82.,  83.,  84.],\n",
      "        [ 91.,  92.,  93.,  94.],\n",
      "        [101., 102., 103., 104.]]), tensor([0., 0., 0., 0., 0., 1., 1., 1., 1., 1.]))\n",
      " \n",
      "tensor([[21., 22., 23., 24.]]) tensor([0.])\n",
      "tensor([[51., 52., 53., 54.]]) tensor([0.])\n",
      "tensor([[61., 62., 63., 64.]]) tensor([1.])\n",
      "tensor([[81., 82., 83., 84.]]) tensor([1.])\n",
      "tensor([[11., 12., 13., 14.]]) tensor([0.])\n",
      "tensor([[91., 92., 93., 94.]]) tensor([1.])\n",
      "tensor([[101., 102., 103., 104.]]) tensor([1.])\n",
      "tensor([[31., 32., 33., 34.]]) tensor([0.])\n",
      "tensor([[41., 42., 43., 44.]]) tensor([0.])\n",
      "tensor([[71., 72., 73., 74.]]) tensor([1.])\n"
     ]
    }
   ],
   "source": [
    "#we need to create a Dataset that contains the data and labels\n",
    "fakeDataset = torch.utils.data.TensorDataset(torch.Tensor(fakedata),torch.Tensor(fakelabels))\n",
    "print( fakeDataset.tensors),print(' ')\n",
    "#We are not suffling and bundling data and label into a convenient dataset object.\n",
    "\n",
    "#then create another dataLoader\n",
    "fakedataLdr = DataLoader(fakeDataset, shuffle=True)\n",
    "\n",
    "#iterate through the data\n",
    "for dat,lab in fakedataLdr:\n",
    "    print(dat,lab)"
   ]
  },
  {
   "cell_type": "code",
   "execution_count": 47,
   "id": "6bc21041",
   "metadata": {},
   "outputs": [],
   "source": [
    "#use scikit learn to split the data\n",
    "train_data,test_data,train_labels,test_labels=train_test_split(fakedata,fakelabels,test_size=.2)\n",
    "\n",
    "#then convert them into pytorch Datasets\n",
    "train_data = torch.utils.data.TensorDataset(torch.tensor(train_data),torch.Tensor(train_labels))\n",
    "\n",
    "test_data = torch.utils.data.TensorDataset(torch.tensor(test_data),torch.Tensor(test_labels))\n",
    "\n",
    "#finally, translate to dataloader objects\n",
    "#notice te batches (see next cell)!\n",
    "#Here data will be loaded in batches where each each batches contains 4 samples.\n",
    "train_loader = DataLoader(train_data,batch_size=4)\n",
    "test_loader = DataLoader(test_data)"
   ]
  },
  {
   "cell_type": "code",
   "execution_count": 48,
   "id": "35d7c3fc",
   "metadata": {},
   "outputs": [
    {
     "name": "stdout",
     "output_type": "stream",
     "text": [
      "Training Data\n",
      "tensor([[21, 22, 23, 24],\n",
      "        [91, 92, 93, 94],\n",
      "        [31, 32, 33, 34],\n",
      "        [81, 82, 83, 84]]) tensor([0., 1., 0., 1.])\n",
      " \n",
      "tensor([[51, 52, 53, 54],\n",
      "        [61, 62, 63, 64],\n",
      "        [11, 12, 13, 14],\n",
      "        [71, 72, 73, 74]]) tensor([0., 1., 0., 1.])\n",
      " \n",
      " \n",
      "TESTING DATA\n",
      "tensor([[101, 102, 103, 104]]) tensor([1.])\n",
      " \n",
      "tensor([[41, 42, 43, 44]]) tensor([0.])\n",
      " \n"
     ]
    }
   ],
   "source": [
    "#examine te contents of the dataloader (batching is an advantage of Dataloader!)\n",
    "print('Training Data')\n",
    "for batch,label in train_loader: #iterable\n",
    "    print(batch,label)\n",
    "    print(' ')\n",
    "    \n",
    "print(' ')\n",
    "print('TESTING DATA')\n",
    "for batch,label in test_loader:\n",
    "    print(batch,label)\n",
    "    print(' ')"
   ]
  },
  {
   "cell_type": "code",
   "execution_count": 49,
   "id": "db8960f8",
   "metadata": {},
   "outputs": [],
   "source": [
    "#Now, back to the real data.\n",
    "\n",
    "#use scikit learn to split the data\n",
    "train_data,test_data,train_labels,test_labels =  train_test_split(data,labels,train_size=.8)\n",
    "\n",
    "#then convert them into Pytorch Datasets !\n",
    "train_data = torch.utils.data.TensorDataset(train_data,train_labels)\n",
    "test_data = torch.utils.data.TensorDataset(test_data,test_labels)\n",
    "\n",
    "#finally transform into dataloader objects\n",
    "train_loader = DataLoader(train_data,shuffle=True,batch_size=12)\n",
    "test_loader = DataLoader(test_data,batch_size = test_data.tensors[0].shape[0])\n",
    "#test_data.tensors[0].shape[0] : This means all the data in test_data is loaded in one batch."
   ]
  },
  {
   "cell_type": "code",
   "execution_count": 50,
   "id": "8275ce42",
   "metadata": {},
   "outputs": [
    {
     "name": "stdout",
     "output_type": "stream",
     "text": [
      "torch.Size([12, 4]) torch.Size([12])\n",
      "torch.Size([12, 4]) torch.Size([12])\n",
      "torch.Size([12, 4]) torch.Size([12])\n",
      "torch.Size([12, 4]) torch.Size([12])\n",
      "torch.Size([12, 4]) torch.Size([12])\n",
      "torch.Size([12, 4]) torch.Size([12])\n",
      "torch.Size([12, 4]) torch.Size([12])\n",
      "torch.Size([12, 4]) torch.Size([12])\n",
      "torch.Size([12, 4]) torch.Size([12])\n",
      "torch.Size([12, 4]) torch.Size([12])\n"
     ]
    },
    {
     "data": {
      "text/plain": [
       "(tensor([[4.7000, 3.2000, 1.3000, 0.2000],\n",
       "         [5.6000, 2.7000, 4.2000, 1.3000],\n",
       "         [6.5000, 3.0000, 5.2000, 2.0000],\n",
       "         [5.5000, 2.4000, 3.7000, 1.0000],\n",
       "         [5.0000, 3.5000, 1.3000, 0.3000],\n",
       "         [5.0000, 3.4000, 1.6000, 0.4000],\n",
       "         [5.0000, 3.3000, 1.4000, 0.2000],\n",
       "         [6.3000, 2.8000, 5.1000, 1.5000],\n",
       "         [6.1000, 2.9000, 4.7000, 1.4000],\n",
       "         [5.5000, 2.3000, 4.0000, 1.3000],\n",
       "         [5.7000, 2.5000, 5.0000, 2.0000],\n",
       "         [5.8000, 2.6000, 4.0000, 1.2000]]),\n",
       " tensor([0, 1, 2, 1, 0, 0, 0, 2, 1, 1, 2, 1]))"
      ]
     },
     "execution_count": 50,
     "metadata": {},
     "output_type": "execute_result"
    }
   ],
   "source": [
    "#check the sizes of data batches:\n",
    "\n",
    "for X,y in train_loader:\n",
    "    print(X.shape,y.shape)\n",
    "\n",
    "X,y"
   ]
  },
  {
   "cell_type": "code",
   "execution_count": 51,
   "id": "c5d55d88",
   "metadata": {},
   "outputs": [],
   "source": [
    "#a function that creates the ANN model:\n",
    "def createANewModel():\n",
    "        \n",
    "        #model architecture\n",
    "        ANNiris = nn.Sequential(\n",
    "            nn.Linear(4,64),    # input layer\n",
    "            nn.ReLU(),          # activtaion unit\n",
    "            nn.Linear(64,64),    # hidden layer\n",
    "            nn.ReLU(),          # activation unit\n",
    "            nn.Linear(64,3)     # output units\n",
    "        )\n",
    "        \n",
    "        #lossfunction\n",
    "        lossfun = nn.CrossEntropyLoss()\n",
    "        \n",
    "        #optimizer\n",
    "        optimizer = torch.optim.SGD(ANNiris.parameters(),lr=.01)\n",
    "        \n",
    "        return ANNiris,lossfun,optimizer"
   ]
  },
  {
   "cell_type": "code",
   "execution_count": 59,
   "id": "93b2ef91",
   "metadata": {},
   "outputs": [],
   "source": [
    "#train the model\n",
    "\n",
    "#global parameter' \n",
    "numepochs = 500\n",
    "\n",
    "def trainTheModel():\n",
    "    \n",
    "    #initialize accuracies as empties (not storing losses here)\n",
    "    trainAcc = []\n",
    "    testAcc = []\n",
    "    \n",
    "    #loop over epochs\n",
    "    for epochi in range(numepochs):\n",
    "        \n",
    "        #loop over training data batches\n",
    "        batchAcc = []\n",
    "        for X,y in train_loader:\n",
    "            \n",
    "            #forward pass and loss\n",
    "            yHat = ANNiris(X)\n",
    "            loss = lossfun(yHat,y)\n",
    "            \n",
    "            #backprop\n",
    "            optimizer.zero_grad()\n",
    "            loss.backward()\n",
    "            optimizer.step()\n",
    "            \n",
    "            #compute training accuracy just for this batch\n",
    "            batchAcc.append(100*torch.mean((torch.argmax(yHat,axis=1)==y).float()).item())\n",
    "        #end of batch loop\n",
    "        \n",
    "        #now that we have trained trough the batches, get their average training accuracy\n",
    "        trainAcc.append(np.mean(batchAcc))\n",
    "        \n",
    "        #test Accuracy\n",
    "        X,y = next(iter(test_loader)) #extract X,y from test dataLoader\n",
    "        predlabels = torch.argmax( ANNiris(X),axis=1)\n",
    "        testAcc.append(100*torch.mean((predlabels == y).float()).item())\n",
    "        \n",
    "        #function output\n",
    "    return trainAcc,testAcc"
   ]
  },
  {
   "cell_type": "code",
   "execution_count": 60,
   "id": "4783c7b2",
   "metadata": {},
   "outputs": [],
   "source": [
    "#Modeling\n",
    "ANNiris,lossfun,optimizer = createANewModel()\n",
    "\n",
    "#train the model\n",
    "trainAcc,testAcc = trainTheModel()"
   ]
  },
  {
   "cell_type": "code",
   "execution_count": 61,
   "id": "433efabd",
   "metadata": {},
   "outputs": [
    {
     "data": {
      "image/png": "[encoded data removed]",
      "text/plain": [
       "<Figure size 1000x500 with 1 Axes>"
      ]
     },
     "metadata": {},
     "output_type": "display_data"
    }
   ],
   "source": [
    "#plot the results\n",
    "fig = plt.figure(figsize=(10,5))\n",
    "\n",
    "plt.plot(trainAcc,'ro-')\n",
    "plt.plot(testAcc,'bs-')\n",
    "plt.xlabel('Epochs')\n",
    "plt.ylabel('Accuracy (%) ')\n",
    "plt.legend(['Train','Test'])\n",
    "\n",
    "plt.show()"
   ]
  },
  {
   "cell_type": "code",
   "execution_count": null,
   "id": "747cdec7",
   "metadata": {},
   "outputs": [],
   "source": [
    "'''\n",
    "Without using the dataLoaders and training in minibatches , it can take several hundred epochs to get good accuracy\n",
    "above 90%. And now we are getting good accuracy at 30-40 epochs. This is an example how process of training a deep-\n",
    "learning model can affect the performace of the model.\n",
    "'''"
   ]
  },
  {
   "cell_type": "code",
   "execution_count": null,
   "id": "4b437aec",
   "metadata": {},
   "outputs": [],
   "source": []
  }
 ],
 "metadata": {
  "kernelspec": {
   "display_name": "Python 3 (ipykernel)",
   "language": "python",
   "name": "python3"
  },
  "language_info": {
   "codemirror_mode": {
    "name": "ipython",
    "version": 3
   },
   "file_extension": ".py",
   "mimetype": "text/x-python",
   "name": "python",
   "nbconvert_exporter": "python",
   "pygments_lexer": "ipython3",
   "version": "3.11.4"
  }
 },
 "nbformat": 4,
 "nbformat_minor": 5
}
